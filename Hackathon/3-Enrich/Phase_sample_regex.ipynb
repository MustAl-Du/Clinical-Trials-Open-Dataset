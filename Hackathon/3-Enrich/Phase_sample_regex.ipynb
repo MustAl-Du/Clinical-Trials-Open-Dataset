{
 "cells": [
  {
   "cell_type": "code",
   "execution_count": 65,
   "id": "98d78333-f7a6-43b1-b63a-1760d6c9bb85",
   "metadata": {},
   "outputs": [],
   "source": [
    "import pandas as pd"
   ]
  },
  {
   "cell_type": "code",
   "execution_count": 66,
   "id": "3d8b1709-3cb2-4a28-9b14-1cf51418fc99",
   "metadata": {},
   "outputs": [],
   "source": [
    "dfs = pd.read_excel(\"sample.xlsx\")"
   ]
  },
  {
   "cell_type": "code",
   "execution_count": 67,
   "id": "bb8a62b8-ce7d-4dac-a49d-b1430ac6d977",
   "metadata": {},
   "outputs": [
    {
     "data": {
      "text/plain": [
       "Undefined    2687\n",
       "PhaseIII      836\n",
       "Phase II      546\n",
       "Phase IV      539\n",
       "Phase I       104\n",
       "Name: Phase, dtype: int64"
      ]
     },
     "execution_count": 67,
     "metadata": {},
     "output_type": "execute_result"
    }
   ],
   "source": [
    "dfs[\"Phase\"].value_counts()"
   ]
  },
  {
   "cell_type": "code",
   "execution_count": 78,
   "id": "13b2240f-dd49-4ebe-bbbc-473568abba1e",
   "metadata": {},
   "outputs": [],
   "source": [
    "rnMap = (          ('V',  5),\n",
    "                   ('IV', 4),\n",
    "                   ('I',  1))"
   ]
  },
  {
   "cell_type": "code",
   "execution_count": 79,
   "id": "c8b834f9-af61-4bec-b9fc-cb236e79a9b7",
   "metadata": {},
   "outputs": [
    {
     "data": {
      "text/plain": [
       "n/a    2687\n",
       "3       836\n",
       "2       546\n",
       "4       539\n",
       "1       104\n",
       "Name: Result, dtype: int64"
      ]
     },
     "execution_count": 79,
     "metadata": {},
     "output_type": "execute_result"
    }
   ],
   "source": [
    "import re\n",
    "\n",
    "results = []\n",
    "for value in dfs[\"Phase\"]:\n",
    "    result = re.search(r'(IV|V?I{1,3})$', value)\n",
    "    if (result != None):\n",
    "        s = 0\n",
    "        index = 0     \n",
    "        for numeral, integer in rnMap:\n",
    "            while result[0][index:index+len(numeral)] == numeral:\n",
    "                s += integer\n",
    "                index += len(numeral)\n",
    "        results.append(s)\n",
    "    else:\n",
    "        results.append(\"n/a\")\n",
    "\n",
    "        \n",
    "       \n",
    "dfs[\"Result\"] = results\n",
    "dfs[\"Result\"].value_counts()\n"
   ]
  },
  {
   "cell_type": "code",
   "execution_count": null,
   "id": "417371c4-dd21-4981-af87-5958055d57b1",
   "metadata": {},
   "outputs": [],
   "source": []
  }
 ],
 "metadata": {
  "kernelspec": {
   "display_name": "Python 3 (ipykernel)",
   "language": "python",
   "name": "python3"
  },
  "language_info": {
   "codemirror_mode": {
    "name": "ipython",
    "version": 3
   },
   "file_extension": ".py",
   "mimetype": "text/x-python",
   "name": "python",
   "nbconvert_exporter": "python",
   "pygments_lexer": "ipython3",
   "version": "3.9.12"
  }
 },
 "nbformat": 4,
 "nbformat_minor": 5
}
