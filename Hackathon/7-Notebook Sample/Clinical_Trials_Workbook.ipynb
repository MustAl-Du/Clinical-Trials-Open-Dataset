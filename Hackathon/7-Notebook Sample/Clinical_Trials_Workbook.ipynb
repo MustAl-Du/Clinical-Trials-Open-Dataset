{
  "nbformat": 4,
  "nbformat_minor": 0,
  "metadata": {
    "colab": {
      "provenance": [],
      "collapsed_sections": []
    },
    "kernelspec": {
      "name": "python3",
      "display_name": "Python 3"
    },
    "language_info": {
      "name": "python"
    }
  },
  "cells": [
    {
      "cell_type": "code",
      "execution_count": 1,
      "metadata": {
        "id": "LiZh43cbWUlH"
      },
      "outputs": [],
      "source": [
        "import pandas as pd   #import the pandas library\n",
        "from operator import itemgetter\n",
        "import matplotlib.pyplot as plt\n",
        "parquet_file = '/content/part-00000-9b516a4d-11f6-4612-b327-ff1a9c8a4620-c000.snappy.parquet' \n",
        "sample = pd.read_parquet(parquet_file, engine='pyarrow')"
      ]
    },
    {
      "cell_type": "code",
      "source": [
        "print(\"Number of Trials: \", len(sample))"
      ],
      "metadata": {
        "colab": {
          "base_uri": "https://localhost:8080/"
        },
        "id": "_1HYzItTULkL",
        "outputId": "c2698606-e200-4b86-eb27-0ad6bb89cbe5"
      },
      "execution_count": 2,
      "outputs": [
        {
          "output_type": "stream",
          "name": "stdout",
          "text": [
            "Number of Trials:  560\n"
          ]
        }
      ]
    },
    {
      "cell_type": "code",
      "source": [
        "plt.title('Results Submitted Histogram')\n",
        "sample[\"results_first_submitted_qc\"] = sample[\"results_first_submitted_qc\"].astype(\"datetime64\")\n",
        "sample.set_index('results_first_submitted_qc', inplace=True)\n",
        "sample.resample('M').size().plot.bar()"
      ],
      "metadata": {
        "colab": {
          "base_uri": "https://localhost:8080/",
          "height": 408
        },
        "id": "IwbAwLu0UtMM",
        "outputId": "7d2798f4-e5f3-411a-b97a-ec0b8c8e9dfa"
      },
      "execution_count": 3,
      "outputs": [
        {
          "output_type": "execute_result",
          "data": {
            "text/plain": [
              "<AxesSubplot:title={'center':'Results Submitted Histogram'}, xlabel='results_first_submitted_qc'>"
            ]
          },
          "metadata": {},
          "execution_count": 3
        },
        {
          "output_type": "display_data",
          "data": {
            "text/plain": [
              "<Figure size 432x288 with 1 Axes>"
            ],
            "image/png": "[encoded data removed]"
          },
          "metadata": {
            "needs_background": "light"
          }
        }
      ]
    },
    {
      "cell_type": "code",
      "source": [
        "plt.title('Eligibility Distribution')\n",
        "sample['eligibility_gender'].value_counts().plot(kind='bar');"
      ],
      "metadata": {
        "colab": {
          "base_uri": "https://localhost:8080/",
          "height": 307
        },
        "id": "jrILYCSgWFYA",
        "outputId": "3a979634-6f81-4a2e-bacc-033668f59626"
      },
      "execution_count": 4,
      "outputs": [
        {
          "output_type": "display_data",
          "data": {
            "text/plain": [
              "<Figure size 432x288 with 1 Axes>"
            ],
            "image/png": "[encoded data removed]"
          },
          "metadata": {
            "needs_background": "light"
          }
        }
      ]
    },
    {
      "cell_type": "code",
      "source": [
        "conditions= {}\n",
        "for i in sample.condition.tolist():\n",
        "  for j in i:\n",
        "    \n",
        "    if (j in conditions):\n",
        "      conditions[j] = conditions[j]+1\n",
        "    else:\n",
        "      conditions[j] = 1\n",
        "print(conditions)\n",
        "con_10 = dict(sorted(conditions.items(), key = itemgetter(1), reverse = True)[:30])"
      ],
      "metadata": {
        "colab": {
          "base_uri": "https://localhost:8080/"
        },
        "id": "gVFRGKvEXT87",
        "outputId": "99b55bf9-162c-43b2-888e-4e6c950fb8ec"
      },
      "execution_count": 5,
      "outputs": [
        {
          "output_type": "stream",
          "name": "stdout",
          "text": [
            "{'Tooth Bleaching': 1, 'Healthy Volunteers': 12, 'Male': 2, 'Japanese': 1, 'Hyposalivation': 1, 'Diet, Healthy': 6, 'Diet Habit': 1, 'Disease, Chronic': 1, 'Health Behavior': 3, 'Rural Health': 1, 'Pregnancy Related': 3, 'Alveolar Process Atrophy': 1, 'Myocardial Infarction': 1, 'High-Density Lipoid Deficiency': 1, 'Meniscus Tear, Tibial': 1, 'Pain, Postoperative': 3, 'Postoperative Complications': 1, 'Ketorolac Adverse Reaction': 1, 'Opioid Use': 3, 'ACL Injury': 1, 'Postoperative Pain': 2, 'Atrial Fibrillation': 2, 'Communication Disorders': 1, 'HIV Infections': 3, 'Pre-Exposure Prophylaxis': 1, 'Dentin Hypersensitivity': 1, 'Community Reinforcement And Family Training': 1, 'Family Health': 1, 'Substance-Related Disorders': 1, 'Compliance, Patient': 1, 'Healthy': 21, 'Long-Term Memory Decline': 1, 'Mild Cognitive Impairment': 2, 'Torus Palatinus and Torus Mandibularis': 1, 'Food Deprivation': 1, 'Injuries': 1, 'Sports Injury': 1, 'Sports Injuries in Children': 1, 'Benign Prostatic Hyperplasia': 1, 'Postnatal Depression': 1, 'Cardiovascular Risk Factor': 2, 'Hip; Anomaly': 1, 'Psychological Distress': 4, 'Anxiety': 12, 'Depression': 6, 'Dry Eye Syndromes': 1, 'Aging Well': 1, 'Arterial Disease': 1, 'Ketamine': 1, 'Lactation': 1, 'Visual Acuity': 12, 'Health Promotion': 1, 'Wellness Program': 1, 'Toxic Effect of Organophosphate and Carbamate Insecticides': 1, 'Pain Control': 1, 'MRI': 1, 'Insulin': 1, 'Exercise': 1, 'Respiratory Complication': 1, 'Comfort': 1, 'Communication': 2, 'Blood Pressure': 1, 'Antibotics in Cementless Knees': 1, 'Acne': 1, 'Hemorrhage': 1, 'Coagulation Delay': 1, 'Stress Disorders, Post-Traumatic': 1, 'Bladder Injury': 1, 'Cesarean Section Complications': 2, 'Adhesions Pelvic': 1, 'Human Immunodeficiency Virus (HIV) Infection': 1, 'Myopia': 7, 'Dental Restoration Failure of Marginal Integrity': 1, 'Acceptance and Commitment Therapy': 1, 'Anxiety Depression': 2, 'Caregiver Burden': 2, 'Public Health Nurse': 1, 'Stress': 6, 'Special Needs Children': 1, 'Caregiver Burnout': 1, 'Accidental Fall': 1, 'Food Labeling': 1, 'Opioid-use Disorder': 1, 'Malaria,Falciparum': 1, 'Parasitemia': 1, 'Protozoan Infections': 1, 'Parasitic Disease': 1, 'Pressure Ulcers Stage III': 1, 'Pressure Ulcer, Stage IV': 1, 'Anxiety Disorders': 2, 'Escherichia Coli Change': 1, 'Food Habits': 1, 'Intubation': 1, 'Ultrasound Imaging': 1, 'Capnography': 1, 'Antifungal Agents': 1, 'Migraine Disorders': 1, 'Apheresis Related Hypotension': 1, 'Malaria': 2, 'Bariatric Surgery Candidate': 1, 'Coronavirus': 3, 'Convalescence': 1, 'Carotid Stenosis': 1, 'Coronavirus Disease 2019 (COVID-19)': 1, 'Respiratory Illness': 1, 'Corona Virus Infection': 3, 'COVID-19': 19, 'SARS (Severe Acute Respiratory Syndrome)': 1, 'SARS-CoV-2': 2, 'Family Members': 1, 'Satisfaction': 1, 'Diagnostic Abdominal Ultrasonography': 1, 'Trauma Injury': 2, 'Tinnitus': 2, 'Nutrition Poor': 1, 'Obesity': 9, 'Food Selection': 4, 'Hypertension': 2, 'Hypertensive Patients': 1, 'Dental Anxiety': 1, 'Medication Adherence': 1, 'Medication Compliance': 1, 'Medication Nonadherence': 1, 'Diabetes': 1, 'Arthritis': 2, 'Chronic Pain': 2, 'Asthma': 2, 'Myofascial Pain - Dysfunction Syndrome of TMJ': 1, 'Myofascial Trigger Point Pain': 1, 'Local Anesthesia': 1, 'Eating Behavior': 4, 'Healthy Adults': 2, 'Chronic Low-back Pain': 1, 'Growth & Development': 1, 'Metabolic Syndrome': 1, 'Food Allergy': 1, 'Cognitive Developmental Delay': 1, 'Covid19': 17, 'Colonoscopy': 1, 'Sedentary Behavior': 4, 'Mental Health Wellness 1': 2, 'Aging': 2, 'Heat Stress': 1, 'Physiological Stress': 2, 'Metabolism': 1, 'Protein': 1, 'RLS': 1, 'Smoking': 1, 'Tobacco Use': 1, 'Central Sensitisation': 1, 'Motor Disorders': 1, 'Infertility': 2, 'Endometrial Disorder': 1, 'Physical Fitness': 1, 'Child Sexual Abuse': 1, 'Arthrocentesis': 1, 'COVID19': 1, 'Meningococcal Infection (Healthy Volunteers)': 1, 'Non-specific Effects of Vaccines': 1, 'Morbidity': 1, 'Absenteeism': 1, 'Heterologous Immunity': 1, 'Osteopathy in Diseases Classified Elsewhere': 1, 'Ecological Momentary Assessment and Intervention': 1, 'Horizontal Ridge Deficiency': 1, 'Polyp of Colon': 2, 'Recurrent Laryngeal Nerve Injuries': 1, 'Constipation': 2, 'Medical Education': 2, 'Decision Support Techniques': 1, 'Obesity, Childhood': 2, 'Hygiene': 1, 'SARS-CoV 2': 1, 'Nursing Care': 1, 'Quality of Life': 4, 'Transitional Care': 1, 'Ascites Hepatic': 1, 'Diaphragmatic Paralysis': 1, 'Brachial Plexus Block': 1, 'Bioequivalence': 7, 'Cognitive Decline': 1, 'Smoking Cessation': 2, 'Gastrointestinal Disease': 1, 'Infectious Disease': 1, 'Capsule Endoscopy': 1, 'Free Gingival Graft': 1, 'Safety': 1, 'Acceptability': 1, 'Osteo Arthritis Knee': 1, 'Supra-ventricular Tachycardia': 1, 'Alzheimer Disease': 2, \"Women's Health: Neoplasm of Breast\": 1, 'Deep Caries': 1, 'Ranitidine Adverse Reaction': 1, 'Pharmacokinetics': 4, 'Food-drug Interaction': 1, 'Diabetes Mellitus, Type 1': 3, 'Type 1 Diabetes': 1, 'Post-operative Pain Control': 1, 'Cerebral Palsy': 2, 'Surgical Training': 1, 'Astigmatism': 5, 'Presbyopia': 3, 'COVID': 3, 'ARDS': 1, 'Pneumonia': 2, 'Lichen Planopilaris': 1, 'Frontal Fibrosing Alopecia': 1, 'Lumbar Disc Herniation': 1, 'Pain': 3, 'Gastro Esophageal Reflux': 1, 'Gastric Ulcer': 1, 'Sedation Complication': 2, 'Menstrual Irregularity': 1, 'Covid 19': 1, 'Emergency General Surgery': 1, 'Low Back Pain': 1, 'Coronavirus Infection': 1, 'Pneumonia, Viral': 2, 'Acute Respiratory Failure': 1, 'Psychological Stress': 3, 'Well-being': 2, 'HIV': 2, 'Pre-exposure Prophylaxis': 1, 'Nursing Student': 1, 'Mental Health Issue': 1, 'Family Caregiving': 1, 'Complex Care': 1, 'Self Efficacy': 1, 'Intervention': 1, 'Perforated Duodenal Ulcer': 1, 'Pregnancy': 1, 'Perineum; Injury': 1, 'Pilates Method': 1, 'Episiotomy Wound': 1, 'Educational Problems': 3, 'Hypoxia': 1, 'Atopic Dermatitis': 1, 'Coronary Artery Disease': 2, 'Erector Spinae Plane Block': 1, 'Bypass Extremity Graft': 1, 'Chronic Illnesses, Multiple': 1, 'Procedural Anxiety': 1, 'Procedural Pain': 2, 'Anemia': 3, 'Global Surgery': 1, 'Medical Missions': 1, 'Meibomian Gland Dysfunction': 1, 'Dry Eye': 1, 'Emotional Eating': 1, 'Hospice Decision Making': 1, 'Vocal Cord Paralysis': 1, 'Phonasthenia': 1, 'Presbylarynges': 1, 'Idiopathic Vocal Cord Paralysis': 1, 'Ca Larynx': 1, 'Healthy Subjects': 4, 'Drug-drug Interaction': 2, 'Quizartinib': 2, 'Internet Based Wellness Program': 1, 'Adult Population': 1, 'Healthy Volunteer': 1, 'Cardiac Arrhythmia': 1, 'Local Anesthetic Efficacy': 1, 'Anesthesia': 2, 'Breathing': 1, 'Sleep Disorder': 1, 'Education': 1, 'Virtual Reality': 3, 'Cervical Cancer': 1, 'Tumor': 1, 'Respiratory Infectious Diseases': 3, 'Syphilis': 1, 'Cataract': 2, 'Brief Video-based Intervention': 2, 'Vignette Based Intervention': 1, 'Non Intervention Control Arm': 1, 'Spine Disease': 1, 'Hepatitis B': 2, 'Infections, Bacterial': 1, 'Refractive Errors': 1, 'Respiratory Viral Infection': 1, 'Non Intervention Control': 1, 'Cyberbullying': 2, 'Grooming': 1, 'Risk Behavior': 1, 'Influenza (Healthy Volunteers)': 4, 'Fasting': 1, 'Pharmacokinetics of Mirabegron': 1, 'Food Effect': 1, 'Healthy Chinese Subjects': 1, 'Benign Neoplasm of Cervix Uteri': 1, 'Gynecological Laparoscopy': 1, 'IUGR': 1, 'Gestational Diabetes': 2, 'Non Suicidal Self Injury': 1, 'Social Anxiety': 1, 'Eating Disorders': 2, 'Body Temperature Changes': 1, 'Dental Plaque': 2, 'Dental Caries': 2, 'Heart Arrhythmia': 1, 'Intimate Partner Violence': 1, 'Immune Tolerance': 1, 'Viral Infection': 1, 'Behavior': 1, 'Pneumococcal Disease': 1, 'Type 2 Diabetes': 3, 'Rheumatoid Arthritis': 5, 'Infertility, Female': 1, 'Knowledge': 1, 'Satisfaction, Patient': 1, 'Covid-19': 2, 'Protection Against COVID-19': 1, 'Healthy Adult Participants': 1, 'Poliomyelitis': 1, 'Chikungunya Virus Infection': 1, 'Influenza Vaccine': 1, 'Glaucoma': 1, 'Endothelial Cell Loss, Corneal': 1, 'Cancer Colorectal': 1, 'Post-operative Pain': 1, 'Gynecologic Surgery': 1, 'Regional Anesthesia': 1, 'Mental Health Disorder': 1, 'Post Partum': 1, 'Colo-rectal Cancer': 1, 'Adenomatous Polyp of Colon': 1, 'Acne Rosacea': 1, 'Breast Cancer': 3, 'Mindfulness': 1, 'Meditation': 1, 'Skin Care': 1, 'Anesthesia Complication': 1, 'Gingivitis': 2, 'LGBTQ': 1, 'Haemorrhagic Shock': 1, 'Bleeding': 1, 'Emergencies': 2, 'Blood Transfusion': 1, 'Massive Hemorrhage': 1, 'Massive Transfusion': 1, 'Adult': 1, 'Bleeding Hemorrhage': 1, 'Hemorrhage / Mortality': 1, 'Cohort Study': 1, 'Female': 1, 'Hospital Mortality': 1, 'Humans': 1, 'Models, Theoretical': 1, 'Prognosis': 1, 'Wounds and Injuries / Mortality': 1, 'Influenza, Human': 1, 'Terminal Illness': 1, 'Body Fat': 1, 'Phlebitis': 1, 'Catheter Complications': 1, 'Overactive Bladder': 1, 'Voiding Disorders': 1, 'Incontinence, Urinary': 1, 'Relapsing Remitting Multiple Sclerosis': 1, 'Insomnia Due to Anxiety and Fear': 1, 'Overweight': 1, 'Activity, Motor': 1, 'Social Isolation': 1, 'Pelvic Floor Muscle Weakness': 1, 'Urinary Incontinence': 1, 'Sars-CoV-2': 1, 'Thoracic Surgery': 1, 'Influenza': 1, 'Safety Issues': 2, 'Surgical Scrubbing': 1, 'Surgical Site Infection': 1, 'Oxygen Deficiency': 1, 'Driving Performance': 1, 'Cognitive Impairment': 1, 'Mood': 2, 'Tuberculosis': 3, 'Healthy Aging': 1, 'Pre Diabetes': 1, 'Pseudotumor Cerebri': 1, 'Child Maltreatment': 1, 'Depressive Symptoms': 3, 'Signs and Symptoms': 1, 'Psychological': 1, 'Gastrointestinal Dysfunction': 1, 'Colorectal Carcinoma': 1, 'Gastroparesis': 3, 'Temperature Change, Body': 1, 'Respiratory Tract Infections': 2, 'Lung Cancer': 1, 'Acupuncture, Ear': 1, 'Mammographic Breast Density': 1, 'Pharmacokinetic': 1, 'Phobias': 1, 'Acrophobia': 1, 'Serology': 1, 'Students': 1, 'Healthy Lifestyle': 2, 'Adverse Effects in the Use of the OsteoProbe System': 1, 'Malnutrition': 1, 'Anterior Cruciate Ligament Tear': 1, 'Osteoarthritis Shoulder': 1, 'Premature Ovarian Insufficiency': 1, 'Nutrient Deficiency': 1, 'Nutritional Deficiency': 1, 'Stress, Psychological': 3, 'Respiratory Syncytial Virus Infections': 1, 'Primary Dysmenorrhea': 1, 'Post Partum Depression': 1, 'Depression, Anxiety': 1, 'Suicidal Ideation': 2, 'Trauma': 1, 'Asymptomatic Condition': 1, 'Colon Polyps': 1, 'SARS-CoV-2 Virus Infection': 1, 'Oral Processing Behavior': 1, 'Mastication': 1, 'Swallowing': 1, 'COVID-19 Pandemic': 2, 'Osteoarthritis of the Small Joints of the Hand': 1, 'Adipose Tissue': 1, 'Child Obesity': 1, 'Fracture Neck of Femur': 1, 'Epinephrine Causing Adverse Effects in Therapeutic Use': 1, 'Periimplantitis': 1, 'Colonic Polyp': 1, 'Cerebrovascular Accident': 1, 'Insulin Tolerance': 1, 'Hormone': 1, 'Aminoacidaemia': 1, 'Shoulder Impingement Syndrome': 1, 'Difficult Airway Intubation': 1, 'Obesity Adult Onset': 1, 'C3PI Study Testing Group': 1, 'Health Knowledge, Attitudes, Practice': 1, 'Alcohol Consumption': 1, 'Cancer of Colon': 1, 'Cancer of Rectum': 1, 'Gait Disorders, Neurologic': 1, 'Sleep-disordered Breathing': 1, 'Vaccination Refusal': 1, 'Effect of Drug': 2, 'Ehlers-Danlos Syndrome': 1, 'Hypermobile EDS (hEDS)': 1, 'Hypermobility Syndrome': 1, 'EDS': 1, 'Local Anaesthetic Drug Adverse Reaction': 1, 'Peripheral Arterial Disease': 1, 'Gout': 1, 'Nursing Students Education on Neonatal Resuscitation': 1, 'Sunscreening Agents': 1, 'Appetitive Behavior': 1, 'Cortical Excitability': 1, 'Psychiatric Disorder': 1, 'Dentine Hypersensitivity': 1, 'Dermatological Non-Disease': 1, 'Healthy Participants': 1, 'Hemostatic Disorder': 1, 'Self Esteem': 1, 'Effects of the Elements': 1, 'Caries': 1, 'Musculoskeletal Pain': 2, 'Analgesia': 1, 'Adverse Event': 1, 'Opioid Antagonist': 1, 'Trigger Point Pain, Myofascial': 1, 'Childhood Obesity': 2, 'Athlete': 1, 'Confidence, Self': 1, 'Cognition': 2, 'Fatigue': 2, 'Function': 1, 'Knowledge, Attitudes, Practice': 2, 'Spinal Cord Injuries': 1, 'Sleep Disordered Breathing': 1, 'Teach-Back Communication': 1, 'Breastfeeding': 1, 'Laboratory Testing on Healthy Volunteers to Verify SpO2 and Heart Rate (HR) Accuracy of BrOxy M': 1, 'Healthy Volunteers From Racial/Ethnic Minority Populations': 1, 'Ankle Injuries': 1, 'Joint Instability': 1, 'Fall': 2, 'Risk Reduction': 1, 'Hearing Loss, Sensorineural': 1, 'Gynecologic Disease': 1, 'Airway Management': 1, 'no Condition': 1, 'Air Quality': 1, 'Volatile Organic Compounds': 1, 'Occupational Health': 1, 'Physical Activity': 2, 'Identity, Social': 1, 'Dietary Supplementations': 1, 'Droplet Spread': 1, 'Gonococcal Infection': 1, 'Motivational Interviewing': 1, 'Oral Hygiene': 2, 'Orthodontic Appliance Complication': 1, 'Abortion in First Trimester': 1, 'Pain, Procedural': 1, 'Virus Infection, RNA': 1, 'Efficacy, Self': 1, 'Opioid Consumption': 1, 'Cesarean Section': 1, 'Bimaxillary Protrusion': 3, 'Prolapse, Vaginal': 1, 'Burnout, Professional': 1, 'Broad Autism Phenotype': 1, 'Plaque': 2, 'Surgical Education': 1, 'Arthritis Knee': 1, 'SARS-CoV2 Infection': 2, 'COVID-19 Testing': 1, 'Gum Injury': 1, 'SARS-CoV-2 Infection': 2, 'Stroke': 2, 'Balance; Distorted': 1, 'End Stage Renal Disease': 1, 'Decision Aid': 1, 'Patient Engagement': 1, 'Dialysis': 1, 'End-of-life Care': 1, 'Prescription Drug Abuse and Dependency': 1, 'Root Canal Infection': 1, 'Sexual Violence Prevention': 1, 'Affect': 1, 'Wheelchair Users': 1, 'Caesarean Wound': 1, 'Hypertrophic Surgical Scar': 1, 'Keloid Scar Following Surgery': 1, 'Pediatric ALL': 1, 'Hepatobiliary Neoplasm': 1, 'Vaccine Refusal': 1, 'Drug Use': 1, 'Emotional Disorder': 1, 'Primary Dental Caries, Multisurface Origin (Diagnosis)': 1, 'Acne Vulgaris': 1, 'Vaping Related Disorder': 1, 'Induction of Second Trimester Abortion': 1, 'Complete Edentulism': 1, 'Dietary Habits': 1, 'Cancer-related Fatigue': 1, 'Light; Therapy, Complications': 1, 'Experimental Myasthenia': 1, 'Cellulite': 1, 'Labor Pain': 3, 'Unspecified Trauma- and Stressor-Related Disorder': 1, 'Sleep Disorder, Shift Work': 1, 'Sleep Disturbance': 1, 'Oral Health': 1, 'Resistance, APC': 1, 'COVID-19 Pneumonia': 1, 'Ventilator Lung': 1, 'Pain, Acute': 1, 'SARS (Disease)': 1, 'Linkage to Care': 1, 'PMTCT': 1, 'PrEP': 1, 'ART Adherence': 1, 'Healthy Diet': 1, 'Stress Reaction': 2, \"Nurse's Role\": 1, 'HPV Vaccine': 1, 'Provider Communication Practices': 1, 'Vaccine Recommendation Practices': 1, 'Shame': 1, 'Periodontitis, Aggressive': 1, 'Periodontal Diseases': 1, 'Periodontitis': 1, 'Hiv': 1, 'Social Behavior': 1, 'Stigma, Social': 1, 'Stigmatization': 1, 'Cancer': 1, 'Student Burnout': 1, 'Cardiovascular Diseases': 1, 'Family Conflict': 1, 'Internet-Based Intervention': 1, 'Hypoxemia': 1, 'Obesity, Morbid': 3, 'Digestive System Disease': 1, 'Inflammatory Bowel Diseases': 1, 'Hypotension': 1, 'Age-Related Osteoporosis': 1, 'Tissue Heating': 1, 'Coagulation': 1, 'Hypnosis': 1, 'Fall Injury': 1, 'Aged': 1, 'Medication': 1, 'Stress, Physiological': 1, 'Dehydration': 1, 'Morbid Obesity': 1, 'GERD': 1, 'Divorce': 1, 'Food Allergy in Infants': 1, 'Child Development': 1, 'Father-Child Relations': 1, 'Time-restricted Feeding': 1, 'Postprandial Lipemia': 1, 'Physical Inactivity': 1, 'Nicotine Dependence': 1, 'Airway Aspiration': 1, 'Cardiopulmonary Arrest': 1, 'Post Operative Pain': 2, 'Muscle Strength': 1, 'Multiple Sclerosis': 1, 'Cystic Fibrosis': 1, 'Motor Neurone Disease': 1, 'Craniocerebral Trauma': 1, 'Guillain-Barre Syndrome': 1, 'Rhinitis, Allergic': 1, 'Nasal Allergy': 1, 'Allergy Pollen': 1, 'Nasal, Cytology': 1, 'Mometasone Allergy': 1, 'Child, Only': 1, 'Feeding; Difficult, Newborn': 1, 'Burnout, Student': 1, 'Compassion': 1, 'Self-Perception': 1, 'Postural; Defect': 1, 'Healthy Nutrition': 1, 'Diabete Type 2': 1, 'Cardiac Disease': 1, 'Vascular Diseases': 1, 'Caregivers Burnout': 1, 'Frontotemporal Dementia': 1, 'Tooth Defect': 1, 'Antisocial Personality Disorder': 1, 'Constipation-predominant Irritable Bowel Syndrome': 1, 'Abdominal Pain': 1, 'Inflammation': 1, 'Nutrition, Healthy': 1, 'Overweight and Obesity': 1, 'Kidney Calculi': 1, 'Alveolar Ridge Preservation': 1, 'Radius Fracture Distal': 1, 'Pandemic, COVID-19': 1, 'Tobacco Smoking': 1, 'The Role of Valsalva Manoeuvre, in Thyroidectomy to Reduce Postoperative Bleeding': 1, 'Surgery': 2, 'Leak, Anastomotic': 1, 'Neurologic Impairment by Opioids': 1, 'Traumatic Hemorrhage': 1, 'Hyperthyroidism/Thyrotoxicosis': 1, 'Autistic Spectrum Disorder': 1, 'Healthy Young Adults': 1, 'Macular Holes': 1, 'Macular Pucker': 1, 'Vitreomacular Traction': 1, 'Caesarean Section': 1, 'Mother-Child Relations': 1, 'Postpartum Depression': 1, 'Caffeine': 1, 'Placebo': 1, 'Temporomandibular Disorder': 1, 'Impacted Third Molar Tooth': 1, 'Telerehabilitation': 1}\n"
          ]
        }
      ]
    },
    {
      "cell_type": "code",
      "source": [
        "plt.title(\"Top 30 Count of Conditions\")\n",
        "plt.bar(range(len(con_10)), list(con_10.values()), align='center')\n",
        "plt.xticks(range(len(con_10)), list(con_10.keys()))\n",
        "plt.xticks(rotation=90)\n",
        "plt.show()"
      ],
      "metadata": {
        "colab": {
          "base_uri": "https://localhost:8080/",
          "height": 423
        },
        "id": "zxGTx4YOXc8Q",
        "outputId": "5972290c-a79d-438f-b73e-0fd814b71aa3"
      },
      "execution_count": 6,
      "outputs": [
        {
          "output_type": "display_data",
          "data": {
            "text/plain": [
              "<Figure size 432x288 with 1 Axes>"
            ],
            "image/png": "[encoded data removed]"
          },
          "metadata": {
            "needs_background": "light"
          }
        }
      ]
    },
    {
      "cell_type": "code",
      "source": [
        "sample.brief_summary_textblock"
      ],
      "metadata": {
        "colab": {
          "base_uri": "https://localhost:8080/"
        },
        "id": "HWIJngEjdSxH",
        "outputId": "da2d511f-65b9-455b-c320-b4abc78430b5"
      },
      "execution_count": 10,
      "outputs": [
        {
          "output_type": "execute_result",
          "data": {
            "text/plain": [
              "results_first_submitted_qc\n",
              "2020-05-02    \\n      The objective of the present study was...\n",
              "2021-01-11    \\n      A Randomised, Double Blind, Two-Arm, S...\n",
              "2021-02-03    \\n      Randomized, double blind, parallel gro...\n",
              "2022-06-16    \\n      Individuals with dry mouth (a reductio...\n",
              "2022-04-28    \\n      There is a need to develop evidence-ba...\n",
              "                                    ...                        \n",
              "NaT           \\n      The purpose of this study is to assess...\n",
              "NaT           \\n      Purpose: investigators explored the ef...\n",
              "NaT           \\n      The most important step in the treatme...\n",
              "NaT           \\n      Some undesirable complications such as...\n",
              "NaT           \\n      The aim was to observe the effect of t...\n",
              "Name: brief_summary_textblock, Length: 560, dtype: object"
            ]
          },
          "metadata": {},
          "execution_count": 10
        }
      ]
    },
    {
      "cell_type": "code",
      "source": [
        "from sklearn.decomposition import NMF\n",
        "from sklearn.feature_extraction.text import TfidfVectorizer\n",
        "vect = TfidfVectorizer(min_df=50, stop_words='english')\n",
        " \n",
        "# Fit and transform\n",
        "X = vect.fit_transform(sample.brief_summary_textblock)"
      ],
      "metadata": {
        "id": "iLNjYaNme4v4"
      },
      "execution_count": 13,
      "outputs": []
    },
    {
      "cell_type": "code",
      "source": [
        "model = NMF(n_components=10, random_state=5)\n",
        "\n",
        "model.fit(X)\n",
        "nmf_features = model.transform(X)"
      ],
      "metadata": {
        "colab": {
          "base_uri": "https://localhost:8080/"
        },
        "id": "V39FVt_nfL3o",
        "outputId": "fb64c8ff-3023-43cd-bb8e-b1f0e1c9f306"
      },
      "execution_count": 14,
      "outputs": [
        {
          "output_type": "stream",
          "name": "stderr",
          "text": [
            "/usr/local/lib/python3.7/dist-packages/sklearn/decomposition/_nmf.py:294: FutureWarning:\n",
            "\n",
            "The 'init' value, when 'init=None' and n_components is less than n_samples and n_features, will be changed from 'nndsvd' to 'nndsvda' in 1.1 (renaming of 0.26).\n",
            "\n"
          ]
        }
      ]
    },
    {
      "cell_type": "code",
      "source": [
        "len(nmf_features)"
      ],
      "metadata": {
        "colab": {
          "base_uri": "https://localhost:8080/"
        },
        "id": "dZBMSSBnhszm",
        "outputId": "c7c48a44-e77b-4be4-ba1e-b595a466c575"
      },
      "execution_count": 28,
      "outputs": [
        {
          "output_type": "execute_result",
          "data": {
            "text/plain": [
              "560"
            ]
          },
          "metadata": {},
          "execution_count": 28
        }
      ]
    },
    {
      "cell_type": "code",
      "source": [
        "components_df = pd.DataFrame(model.components_, columns=vect.get_feature_names())\n",
        "components_df"
      ],
      "metadata": {
        "colab": {
          "base_uri": "https://localhost:8080/",
          "height": 526
        },
        "id": "OJF2K0QXhv_l",
        "outputId": "f1727cb6-8e6c-4973-e54f-3191d3e38a78"
      },
      "execution_count": 16,
      "outputs": [
        {
          "output_type": "stream",
          "name": "stderr",
          "text": [
            "/usr/local/lib/python3.7/dist-packages/sklearn/utils/deprecation.py:87: FutureWarning:\n",
            "\n",
            "Function get_feature_names is deprecated; get_feature_names is deprecated in 1.0 and will be removed in 1.2. Please use get_feature_names_out instead.\n",
            "\n"
          ]
        },
        {
          "output_type": "execute_result",
          "data": {
            "text/plain": [
              "         19       aim    assess     based      care  clinical   compare  \\\n",
              "0  0.000000  0.076358  0.000000  0.000000  0.000000  0.000000  0.095954   \n",
              "1  0.000000  0.000000  0.222807  0.002705  0.000000  0.000000  0.014295   \n",
              "2  1.414529  0.194362  0.125684  0.000000  0.012137  0.000000  0.002677   \n",
              "3  0.000000  0.117200  0.040832  0.045505  0.252108  0.045212  0.000000   \n",
              "4  0.000000  0.000000  0.108448  0.000000  0.000000  0.000000  0.141377   \n",
              "5  0.000000  0.068318  0.000000  0.000000  0.000000  0.000000  0.052681   \n",
              "6  0.000000  0.000000  0.004570  0.014393  0.000000  1.067874  0.095550   \n",
              "7  0.000000  0.084868  0.094864  0.906766  0.664113  0.000000  0.000000   \n",
              "8  0.000000  0.098444  0.163036  0.000000  0.000000  0.000000  0.000000   \n",
              "9  0.000000  0.217827  0.077600  0.103472  0.000000  0.131070  0.233036   \n",
              "\n",
              "   compared   control  controlled  ...    safety    single     study  \\\n",
              "0  0.073306  1.160502    0.236367  ...  0.000000  0.000000  0.274735   \n",
              "1  0.016257  0.000000    0.058855  ...  0.817986  0.824102  0.095330   \n",
              "2  0.000000  0.144632    0.024936  ...  0.026597  0.000000  0.025713   \n",
              "3  0.136487  0.001991    0.056404  ...  0.000000  0.000000  0.183955   \n",
              "4  0.023841  0.000000    0.000000  ...  0.000000  0.133891  0.077256   \n",
              "5  0.006771  0.083208    0.021383  ...  0.000000  0.000000  0.000000   \n",
              "6  0.020634  0.023309    0.445655  ...  0.000000  0.091724  0.000000   \n",
              "7  0.200035  0.067263    0.000000  ...  0.000000  0.000000  0.199883   \n",
              "8  0.041194  0.171238    0.000000  ...  0.000000  0.050921  0.000000   \n",
              "9  0.073042  0.014550    0.000000  ...  0.134817  0.000000  2.198100   \n",
              "\n",
              "       test      time  treatment     trial       use      used     using  \n",
              "0  0.000000  0.000000    0.00000  0.076641  0.000000  0.195576  0.045519  \n",
              "1  0.000000  0.000000    0.00000  0.000000  0.000000  0.000000  0.000000  \n",
              "2  0.000000  0.048257    0.00000  0.000000  0.019370  0.048553  0.000000  \n",
              "3  0.000000  0.079717    0.00000  0.000000  0.086643  0.087064  0.278846  \n",
              "4  0.000000  0.128253    2.03865  0.000000  0.183391  0.000000  0.000000  \n",
              "5  0.000000  0.047800    0.00000  0.000000  0.356232  0.305322  0.108166  \n",
              "6  0.000000  0.069193    0.00000  1.196196  0.007705  0.120219  0.101672  \n",
              "7  0.000000  0.261813    0.00000  0.000000  0.531854  0.037973  0.105130  \n",
              "8  1.818458  0.035923    0.00000  0.000000  0.035250  0.158241  0.131988  \n",
              "9  0.000000  0.000000    0.00000  0.000000  0.007078  0.031870  0.249948  \n",
              "\n",
              "[10 rows x 48 columns]"
            ],
            "text/html": [
              "\n",
              "  <div id=\"df-62eb0710-cdf2-42b4-9a12-200b0ac75620\">\n",
              "    <div class=\"colab-df-container\">\n",
              "      <div>\n",
              "<style scoped>\n",
              "    .dataframe tbody tr th:only-of-type {\n",
              "        vertical-align: middle;\n",
              "    }\n",
              "\n",
              "    .dataframe tbody tr th {\n",
              "        vertical-align: top;\n",
              "    }\n",
              "\n",
              "    .dataframe thead th {\n",
              "        text-align: right;\n",
              "    }\n",
              "</style>\n",
              "<table border=\"1\" class=\"dataframe\">\n",
              "  <thead>\n",
              "    <tr style=\"text-align: right;\">\n",
              "      <th></th>\n",
              "      <th>19</th>\n",
              "      <th>aim</th>\n",
              "      <th>assess</th>\n",
              "      <th>based</th>\n",
              "      <th>care</th>\n",
              "      <th>clinical</th>\n",
              "      <th>compare</th>\n",
              "      <th>compared</th>\n",
              "      <th>control</th>\n",
              "      <th>controlled</th>\n",
              "      <th>...</th>\n",
              "      <th>safety</th>\n",
              "      <th>single</th>\n",
              "      <th>study</th>\n",
              "      <th>test</th>\n",
              "      <th>time</th>\n",
              "      <th>treatment</th>\n",
              "      <th>trial</th>\n",
              "      <th>use</th>\n",
              "      <th>used</th>\n",
              "      <th>using</th>\n",
              "    </tr>\n",
              "  </thead>\n",
              "  <tbody>\n",
              "    <tr>\n",
              "      <th>0</th>\n",
              "      <td>0.000000</td>\n",
              "      <td>0.076358</td>\n",
              "      <td>0.000000</td>\n",
              "      <td>0.000000</td>\n",
              "      <td>0.000000</td>\n",
              "      <td>0.000000</td>\n",
              "      <td>0.095954</td>\n",
              "      <td>0.073306</td>\n",
              "      <td>1.160502</td>\n",
              "      <td>0.236367</td>\n",
              "      <td>...</td>\n",
              "      <td>0.000000</td>\n",
              "      <td>0.000000</td>\n",
              "      <td>0.274735</td>\n",
              "      <td>0.000000</td>\n",
              "      <td>0.000000</td>\n",
              "      <td>0.00000</td>\n",
              "      <td>0.076641</td>\n",
              "      <td>0.000000</td>\n",
              "      <td>0.195576</td>\n",
              "      <td>0.045519</td>\n",
              "    </tr>\n",
              "    <tr>\n",
              "      <th>1</th>\n",
              "      <td>0.000000</td>\n",
              "      <td>0.000000</td>\n",
              "      <td>0.222807</td>\n",
              "      <td>0.002705</td>\n",
              "      <td>0.000000</td>\n",
              "      <td>0.000000</td>\n",
              "      <td>0.014295</td>\n",
              "      <td>0.016257</td>\n",
              "      <td>0.000000</td>\n",
              "      <td>0.058855</td>\n",
              "      <td>...</td>\n",
              "      <td>0.817986</td>\n",
              "      <td>0.824102</td>\n",
              "      <td>0.095330</td>\n",
              "      <td>0.000000</td>\n",
              "      <td>0.000000</td>\n",
              "      <td>0.00000</td>\n",
              "      <td>0.000000</td>\n",
              "      <td>0.000000</td>\n",
              "      <td>0.000000</td>\n",
              "      <td>0.000000</td>\n",
              "    </tr>\n",
              "    <tr>\n",
              "      <th>2</th>\n",
              "      <td>1.414529</td>\n",
              "      <td>0.194362</td>\n",
              "      <td>0.125684</td>\n",
              "      <td>0.000000</td>\n",
              "      <td>0.012137</td>\n",
              "      <td>0.000000</td>\n",
              "      <td>0.002677</td>\n",
              "      <td>0.000000</td>\n",
              "      <td>0.144632</td>\n",
              "      <td>0.024936</td>\n",
              "      <td>...</td>\n",
              "      <td>0.026597</td>\n",
              "      <td>0.000000</td>\n",
              "      <td>0.025713</td>\n",
              "      <td>0.000000</td>\n",
              "      <td>0.048257</td>\n",
              "      <td>0.00000</td>\n",
              "      <td>0.000000</td>\n",
              "      <td>0.019370</td>\n",
              "      <td>0.048553</td>\n",
              "      <td>0.000000</td>\n",
              "    </tr>\n",
              "    <tr>\n",
              "      <th>3</th>\n",
              "      <td>0.000000</td>\n",
              "      <td>0.117200</td>\n",
              "      <td>0.040832</td>\n",
              "      <td>0.045505</td>\n",
              "      <td>0.252108</td>\n",
              "      <td>0.045212</td>\n",
              "      <td>0.000000</td>\n",
              "      <td>0.136487</td>\n",
              "      <td>0.001991</td>\n",
              "      <td>0.056404</td>\n",
              "      <td>...</td>\n",
              "      <td>0.000000</td>\n",
              "      <td>0.000000</td>\n",
              "      <td>0.183955</td>\n",
              "      <td>0.000000</td>\n",
              "      <td>0.079717</td>\n",
              "      <td>0.00000</td>\n",
              "      <td>0.000000</td>\n",
              "      <td>0.086643</td>\n",
              "      <td>0.087064</td>\n",
              "      <td>0.278846</td>\n",
              "    </tr>\n",
              "    <tr>\n",
              "      <th>4</th>\n",
              "      <td>0.000000</td>\n",
              "      <td>0.000000</td>\n",
              "      <td>0.108448</td>\n",
              "      <td>0.000000</td>\n",
              "      <td>0.000000</td>\n",
              "      <td>0.000000</td>\n",
              "      <td>0.141377</td>\n",
              "      <td>0.023841</td>\n",
              "      <td>0.000000</td>\n",
              "      <td>0.000000</td>\n",
              "      <td>...</td>\n",
              "      <td>0.000000</td>\n",
              "      <td>0.133891</td>\n",
              "      <td>0.077256</td>\n",
              "      <td>0.000000</td>\n",
              "      <td>0.128253</td>\n",
              "      <td>2.03865</td>\n",
              "      <td>0.000000</td>\n",
              "      <td>0.183391</td>\n",
              "      <td>0.000000</td>\n",
              "      <td>0.000000</td>\n",
              "    </tr>\n",
              "    <tr>\n",
              "      <th>5</th>\n",
              "      <td>0.000000</td>\n",
              "      <td>0.068318</td>\n",
              "      <td>0.000000</td>\n",
              "      <td>0.000000</td>\n",
              "      <td>0.000000</td>\n",
              "      <td>0.000000</td>\n",
              "      <td>0.052681</td>\n",
              "      <td>0.006771</td>\n",
              "      <td>0.083208</td>\n",
              "      <td>0.021383</td>\n",
              "      <td>...</td>\n",
              "      <td>0.000000</td>\n",
              "      <td>0.000000</td>\n",
              "      <td>0.000000</td>\n",
              "      <td>0.000000</td>\n",
              "      <td>0.047800</td>\n",
              "      <td>0.00000</td>\n",
              "      <td>0.000000</td>\n",
              "      <td>0.356232</td>\n",
              "      <td>0.305322</td>\n",
              "      <td>0.108166</td>\n",
              "    </tr>\n",
              "    <tr>\n",
              "      <th>6</th>\n",
              "      <td>0.000000</td>\n",
              "      <td>0.000000</td>\n",
              "      <td>0.004570</td>\n",
              "      <td>0.014393</td>\n",
              "      <td>0.000000</td>\n",
              "      <td>1.067874</td>\n",
              "      <td>0.095550</td>\n",
              "      <td>0.020634</td>\n",
              "      <td>0.023309</td>\n",
              "      <td>0.445655</td>\n",
              "      <td>...</td>\n",
              "      <td>0.000000</td>\n",
              "      <td>0.091724</td>\n",
              "      <td>0.000000</td>\n",
              "      <td>0.000000</td>\n",
              "      <td>0.069193</td>\n",
              "      <td>0.00000</td>\n",
              "      <td>1.196196</td>\n",
              "      <td>0.007705</td>\n",
              "      <td>0.120219</td>\n",
              "      <td>0.101672</td>\n",
              "    </tr>\n",
              "    <tr>\n",
              "      <th>7</th>\n",
              "      <td>0.000000</td>\n",
              "      <td>0.084868</td>\n",
              "      <td>0.094864</td>\n",
              "      <td>0.906766</td>\n",
              "      <td>0.664113</td>\n",
              "      <td>0.000000</td>\n",
              "      <td>0.000000</td>\n",
              "      <td>0.200035</td>\n",
              "      <td>0.067263</td>\n",
              "      <td>0.000000</td>\n",
              "      <td>...</td>\n",
              "      <td>0.000000</td>\n",
              "      <td>0.000000</td>\n",
              "      <td>0.199883</td>\n",
              "      <td>0.000000</td>\n",
              "      <td>0.261813</td>\n",
              "      <td>0.00000</td>\n",
              "      <td>0.000000</td>\n",
              "      <td>0.531854</td>\n",
              "      <td>0.037973</td>\n",
              "      <td>0.105130</td>\n",
              "    </tr>\n",
              "    <tr>\n",
              "      <th>8</th>\n",
              "      <td>0.000000</td>\n",
              "      <td>0.098444</td>\n",
              "      <td>0.163036</td>\n",
              "      <td>0.000000</td>\n",
              "      <td>0.000000</td>\n",
              "      <td>0.000000</td>\n",
              "      <td>0.000000</td>\n",
              "      <td>0.041194</td>\n",
              "      <td>0.171238</td>\n",
              "      <td>0.000000</td>\n",
              "      <td>...</td>\n",
              "      <td>0.000000</td>\n",
              "      <td>0.050921</td>\n",
              "      <td>0.000000</td>\n",
              "      <td>1.818458</td>\n",
              "      <td>0.035923</td>\n",
              "      <td>0.00000</td>\n",
              "      <td>0.000000</td>\n",
              "      <td>0.035250</td>\n",
              "      <td>0.158241</td>\n",
              "      <td>0.131988</td>\n",
              "    </tr>\n",
              "    <tr>\n",
              "      <th>9</th>\n",
              "      <td>0.000000</td>\n",
              "      <td>0.217827</td>\n",
              "      <td>0.077600</td>\n",
              "      <td>0.103472</td>\n",
              "      <td>0.000000</td>\n",
              "      <td>0.131070</td>\n",
              "      <td>0.233036</td>\n",
              "      <td>0.073042</td>\n",
              "      <td>0.014550</td>\n",
              "      <td>0.000000</td>\n",
              "      <td>...</td>\n",
              "      <td>0.134817</td>\n",
              "      <td>0.000000</td>\n",
              "      <td>2.198100</td>\n",
              "      <td>0.000000</td>\n",
              "      <td>0.000000</td>\n",
              "      <td>0.00000</td>\n",
              "      <td>0.000000</td>\n",
              "      <td>0.007078</td>\n",
              "      <td>0.031870</td>\n",
              "      <td>0.249948</td>\n",
              "    </tr>\n",
              "  </tbody>\n",
              "</table>\n",
              "<p>10 rows × 48 columns</p>\n",
              "</div>\n",
              "      <button class=\"colab-df-convert\" onclick=\"convertToInteractive('df-62eb0710-cdf2-42b4-9a12-200b0ac75620')\"\n",
              "              title=\"Convert this dataframe to an interactive table.\"\n",
              "              style=\"display:none;\">\n",
              "        \n",
              "  <svg xmlns=\"http://www.w3.org/2000/svg\" height=\"24px\"viewBox=\"0 0 24 24\"\n",
              "       width=\"24px\">\n",
              "    <path d=\"M0 0h24v24H0V0z\" fill=\"none\"/>\n",
              "    <path d=\"M18.56 5.44l.94 2.06.94-2.06 2.06-.94-2.06-.94-.94-2.06-.94 2.06-2.06.94zm-11 1L8.5 8.5l.94-2.06 2.06-.94-2.06-.94L8.5 2.5l-.94 2.06-2.06.94zm10 10l.94 2.06.94-2.06 2.06-.94-2.06-.94-.94-2.06-.94 2.06-2.06.94z\"/><path d=\"M17.41 7.96l-1.37-1.37c-.4-.4-.92-.59-1.43-.59-.52 0-1.04.2-1.43.59L10.3 9.45l-7.72 7.72c-.78.78-.78 2.05 0 2.83L4 21.41c.39.39.9.59 1.41.59.51 0 1.02-.2 1.41-.59l7.78-7.78 2.81-2.81c.8-.78.8-2.07 0-2.86zM5.41 20L4 18.59l7.72-7.72 1.47 1.35L5.41 20z\"/>\n",
              "  </svg>\n",
              "      </button>\n",
              "      \n",
              "  <style>\n",
              "    .colab-df-container {\n",
              "      display:flex;\n",
              "      flex-wrap:wrap;\n",
              "      gap: 12px;\n",
              "    }\n",
              "\n",
              "    .colab-df-convert {\n",
              "      background-color: #E8F0FE;\n",
              "      border: none;\n",
              "      border-radius: 50%;\n",
              "      cursor: pointer;\n",
              "      display: none;\n",
              "      fill: #1967D2;\n",
              "      height: 32px;\n",
              "      padding: 0 0 0 0;\n",
              "      width: 32px;\n",
              "    }\n",
              "\n",
              "    .colab-df-convert:hover {\n",
              "      background-color: #E2EBFA;\n",
              "      box-shadow: 0px 1px 2px rgba(60, 64, 67, 0.3), 0px 1px 3px 1px rgba(60, 64, 67, 0.15);\n",
              "      fill: #174EA6;\n",
              "    }\n",
              "\n",
              "    [theme=dark] .colab-df-convert {\n",
              "      background-color: #3B4455;\n",
              "      fill: #D2E3FC;\n",
              "    }\n",
              "\n",
              "    [theme=dark] .colab-df-convert:hover {\n",
              "      background-color: #434B5C;\n",
              "      box-shadow: 0px 1px 3px 1px rgba(0, 0, 0, 0.15);\n",
              "      filter: drop-shadow(0px 1px 2px rgba(0, 0, 0, 0.3));\n",
              "      fill: #FFFFFF;\n",
              "    }\n",
              "  </style>\n",
              "\n",
              "      <script>\n",
              "        const buttonEl =\n",
              "          document.querySelector('#df-62eb0710-cdf2-42b4-9a12-200b0ac75620 button.colab-df-convert');\n",
              "        buttonEl.style.display =\n",
              "          google.colab.kernel.accessAllowed ? 'block' : 'none';\n",
              "\n",
              "        async function convertToInteractive(key) {\n",
              "          const element = document.querySelector('#df-62eb0710-cdf2-42b4-9a12-200b0ac75620');\n",
              "          const dataTable =\n",
              "            await google.colab.kernel.invokeFunction('convertToInteractive',\n",
              "                                                     [key], {});\n",
              "          if (!dataTable) return;\n",
              "\n",
              "          const docLinkHtml = 'Like what you see? Visit the ' +\n",
              "            '<a target=\"_blank\" href=https://colab.research.google.com/notebooks/data_table.ipynb>data table notebook</a>'\n",
              "            + ' to learn more about interactive tables.';\n",
              "          element.innerHTML = '';\n",
              "          dataTable['output_type'] = 'display_data';\n",
              "          await google.colab.output.renderOutput(dataTable, element);\n",
              "          const docLink = document.createElement('div');\n",
              "          docLink.innerHTML = docLinkHtml;\n",
              "          element.appendChild(docLink);\n",
              "        }\n",
              "      </script>\n",
              "    </div>\n",
              "  </div>\n",
              "  "
            ]
          },
          "metadata": {},
          "execution_count": 16
        }
      ]
    },
    {
      "cell_type": "code",
      "source": [
        "for topic in range(components_df.shape[0]):\n",
        "    tmp = components_df.iloc[topic]\n",
        "    print(f'For topic {topic+1} the words with the highest value are:')\n",
        "    print(tmp.nlargest(10))\n",
        "    print('\\n')"
      ],
      "metadata": {
        "colab": {
          "base_uri": "https://localhost:8080/"
        },
        "id": "rzKFm5eUhzm2",
        "outputId": "fd8d0228-1d6e-4fb9-833c-a0d889403503"
      },
      "execution_count": 17,
      "outputs": [
        {
          "output_type": "stream",
          "name": "stdout",
          "text": [
            "For topic 1 the words with the highest value are:\n",
            "group           2.655753\n",
            "control         1.160502\n",
            "groups          0.613002\n",
            "participants    0.524922\n",
            "intervention    0.426807\n",
            "randomized      0.339230\n",
            "study           0.274735\n",
            "controlled      0.236367\n",
            "used            0.195576\n",
            "effect          0.189102\n",
            "Name: 0, dtype: float64\n",
            "\n",
            "\n",
            "For topic 2 the words with the highest value are:\n",
            "dose            0.959688\n",
            "participants    0.877470\n",
            "healthy         0.876533\n",
            "single          0.824102\n",
            "safety          0.817986\n",
            "assess          0.222807\n",
            "period          0.138406\n",
            "primary         0.128641\n",
            "non             0.112747\n",
            "study           0.095330\n",
            "Name: 1, dtype: float64\n",
            "\n",
            "\n",
            "For topic 3 the words with the highest value are:\n",
            "covid       1.593903\n",
            "19          1.414529\n",
            "aim         0.194362\n",
            "control     0.144632\n",
            "research    0.137135\n",
            "disease     0.129257\n",
            "assess      0.125684\n",
            "efficacy    0.107595\n",
            "risk        0.079235\n",
            "health      0.076412\n",
            "Name: 2, dtype: float64\n",
            "\n",
            "\n",
            "For topic 4 the words with the highest value are:\n",
            "patients    1.982659\n",
            "disease     0.468189\n",
            "evaluate    0.377150\n",
            "risk        0.323548\n",
            "using       0.278846\n",
            "care        0.252108\n",
            "study       0.183955\n",
            "non         0.148243\n",
            "compared    0.136487\n",
            "aim         0.117200\n",
            "Name: 3, dtype: float64\n",
            "\n",
            "\n",
            "For topic 5 the words with the highest value are:\n",
            "treatment     2.038650\n",
            "period        0.431326\n",
            "effects       0.204939\n",
            "use           0.183391\n",
            "compare       0.141377\n",
            "single        0.133891\n",
            "time          0.128253\n",
            "assess        0.108448\n",
            "randomized    0.100947\n",
            "efficacy      0.087277\n",
            "Name: 4, dtype: float64\n",
            "\n",
            "\n",
            "For topic 6 the words with the highest value are:\n",
            "pain             1.906479\n",
            "use              0.356232\n",
            "used             0.305322\n",
            "determine        0.262339\n",
            "non              0.201783\n",
            "investigators    0.171655\n",
            "effect           0.119398\n",
            "primary          0.111757\n",
            "effects          0.109522\n",
            "using            0.108166\n",
            "Name: 5, dtype: float64\n",
            "\n",
            "\n",
            "For topic 7 the words with the highest value are:\n",
            "trial            1.196196\n",
            "clinical         1.067874\n",
            "randomized       0.698143\n",
            "controlled       0.445655\n",
            "effect           0.180926\n",
            "effectiveness    0.147316\n",
            "evaluate         0.130470\n",
            "used             0.120219\n",
            "efficacy         0.108215\n",
            "non              0.103135\n",
            "Name: 6, dtype: float64\n",
            "\n",
            "\n",
            "For topic 8 the words with the highest value are:\n",
            "intervention     1.282721\n",
            "health           1.191763\n",
            "based            0.906766\n",
            "care             0.664113\n",
            "use              0.531854\n",
            "investigators    0.456908\n",
            "participants     0.416259\n",
            "research         0.324884\n",
            "effectiveness    0.322761\n",
            "effects          0.281583\n",
            "Name: 7, dtype: float64\n",
            "\n",
            "\n",
            "For topic 9 the words with the highest value are:\n",
            "test             1.818458\n",
            "investigators    0.552696\n",
            "period           0.249622\n",
            "control          0.171238\n",
            "assess           0.163036\n",
            "randomized       0.159078\n",
            "used             0.158241\n",
            "using            0.131988\n",
            "risk             0.129785\n",
            "different        0.103774\n",
            "Name: 8, dtype: float64\n",
            "\n",
            "\n",
            "For topic 10 the words with the highest value are:\n",
            "study        2.198100\n",
            "purpose      1.003844\n",
            "evaluate     0.530900\n",
            "determine    0.509156\n",
            "objective    0.375521\n",
            "effect       0.278873\n",
            "using        0.249948\n",
            "compare      0.233036\n",
            "aim          0.217827\n",
            "safety       0.134817\n",
            "Name: 9, dtype: float64\n",
            "\n",
            "\n"
          ]
        }
      ]
    },
    {
      "cell_type": "code",
      "source": [
        "from sklearn.manifold import TSNE\n",
        "tsne = TSNE(n_components=2, random_state=0)\n",
        "train_X_tsne = tsne.fit_transform(nmf_features)"
      ],
      "metadata": {
        "colab": {
          "base_uri": "https://localhost:8080/"
        },
        "id": "whLM8EZzh2ps",
        "outputId": "cbce976b-1474-43c8-ce29-3556ed91f3d1"
      },
      "execution_count": 29,
      "outputs": [
        {
          "output_type": "stream",
          "name": "stderr",
          "text": [
            "/usr/local/lib/python3.7/dist-packages/sklearn/manifold/_t_sne.py:783: FutureWarning:\n",
            "\n",
            "The default initialization in TSNE will change from 'random' to 'pca' in 1.2.\n",
            "\n",
            "/usr/local/lib/python3.7/dist-packages/sklearn/manifold/_t_sne.py:793: FutureWarning:\n",
            "\n",
            "The default learning rate in TSNE will change from 200.0 to 'auto' in 1.2.\n",
            "\n"
          ]
        }
      ]
    },
    {
      "cell_type": "code",
      "source": [
        "plt.title(\"Distributions of Trials based on Topic\")\n",
        "plt.scatter(train_X_tsne[:,0], train_X_tsne[:,1],  cmap='prism', alpha=0.4)"
      ],
      "metadata": {
        "colab": {
          "base_uri": "https://localhost:8080/",
          "height": 316
        },
        "id": "ZwqdToDgi93w",
        "outputId": "eeb4a18b-2525-4586-bc83-5eebc15d9f6a"
      },
      "execution_count": 31,
      "outputs": [
        {
          "output_type": "execute_result",
          "data": {
            "text/plain": [
              "<matplotlib.collections.PathCollection at 0x7ffb4b2a0f90>"
            ]
          },
          "metadata": {},
          "execution_count": 31
        },
        {
          "output_type": "stream",
          "name": "stderr",
          "text": [
            "2022-09-26 20:49:56,352 - WARNING  - findfont: Font family ['Heiti TC'] not found. Falling back to DejaVu Sans.\n"
          ]
        },
        {
          "output_type": "display_data",
          "data": {
            "text/plain": [
              "<Figure size 432x288 with 1 Axes>"
            ],
            "image/png": "[encoded data removed]"
          },
          "metadata": {
            "needs_background": "light"
          }
        }
      ]
    },
    {
      "cell_type": "code",
      "source": [],
      "metadata": {
        "id": "6T38z31SjMQ4"
      },
      "execution_count": 30,
      "outputs": []
    },
    {
      "cell_type": "code",
      "source": [],
      "metadata": {
        "id": "WoiJyhOEjVze"
      },
      "execution_count": null,
      "outputs": []
    }
  ]
}